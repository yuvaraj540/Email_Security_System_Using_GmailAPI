{
 "cells": [
  {
   "cell_type": "markdown",
   "id": "78948ef8-821e-44bb-9e20-13c7a6033f19",
   "metadata": {},
   "source": [
    "#### Importing all the required libraries"
   ]
  },
  {
   "cell_type": "code",
   "execution_count": 1,
   "id": "47f98342-b8ad-48b6-85b4-207181e3aef7",
   "metadata": {},
   "outputs": [],
   "source": [
    "import pandas as pd\n",
    "import numpy as np\n",
    "import random\n",
    "import pickle\n",
    "from sklearn.model_selection import train_test_split\n",
    "from sklearn.feature_extraction.text import TfidfVectorizer\n",
    "from sklearn.linear_model import LogisticRegression\n",
    "from scipy.sparse import csr_matrix\n",
    "from sklearn.feature_extraction.text import TfidfVectorizer\n"
   ]
  },
  {
   "cell_type": "markdown",
   "id": "32e739dd-0630-4fd7-abe9-848cfb27a7a1",
   "metadata": {},
   "source": [
    "#### Importing the Dataset\n",
    "### Source : "
   ]
  },
  {
   "cell_type": "code",
   "execution_count": 2,
   "id": "d66598b0-dad4-4bd2-8a12-9b407d7205f1",
   "metadata": {},
   "outputs": [],
   "source": [
    "# Read the CSV file\n",
    "url = 'data_url.csv'\n",
    "url_csv = pd.read_csv(url, sep=',', on_bad_lines='skip')\n",
    "\n",
    "# Convert the data from CSV to DataFrame\n",
    "url_df = pd.DataFrame(url_csv)\n",
    "\n",
    "# Convert the DataFrame to a NumPy array\n",
    "url_df = np.array(url_df)\n",
    "\n",
    "# Shuffle the array\n",
    "random.shuffle(url_df)"
   ]
  },
  {
   "cell_type": "markdown",
   "id": "4e528eba-0c36-495e-a5a6-efc48e7e664f",
   "metadata": {},
   "source": [
    "#### Seperating the data according to it's characteristics"
   ]
  },
  {
   "cell_type": "code",
   "execution_count": 3,
   "id": "12bace9c-89d1-4243-978f-6a92cedfe9a8",
   "metadata": {},
   "outputs": [],
   "source": [
    "y = [d[1] for d in url_df]                 \n",
    "urls = [d[0] for d in url_df]"
   ]
  },
  {
   "cell_type": "markdown",
   "id": "3c9fdec8-2ef3-48e9-9a8b-b2c4a95a0648",
   "metadata": {},
   "source": [
    "#### Since the urls are different from our normal text documents, we need to use a sanitization method to get the relevant data from raw urls."
   ]
  },
  {
   "cell_type": "code",
   "execution_count": 4,
   "id": "f9ca18a2-5ca1-4b58-a0fe-77e4b8957baf",
   "metadata": {},
   "outputs": [],
   "source": [
    "def sanitization(web):\n",
    "    web = web.lower()\n",
    "    token = []\n",
    "    dot_token_slash = []\n",
    "    raw_slash = str(web).split('/')\n",
    "    for i in raw_slash:\n",
    "        # removing slash to get token\n",
    "        raw1 = str(i).split('-')\n",
    "        slash_token = []\n",
    "        for j in range(0,len(raw1)):\n",
    "            # removing dot to get the tokens\n",
    "            raw2 = str(raw1[j]).split('.')\n",
    "            slash_token = slash_token + raw2\n",
    "        dot_token_slash = dot_token_slash + raw1 + slash_token\n",
    "    # to remove same words\n",
    "    token = list(set(dot_token_slash))  \n",
    "    if 'com' in token:\n",
    "        #remove com\n",
    "        token.remove('com')\n",
    "    return token"
   ]
  },
  {
   "cell_type": "markdown",
   "id": "68c43a39-193c-42cc-87cf-f020ffa7d41f",
   "metadata": {},
   "source": [
    "#### We will have to pass the data to our custom vectorizer function using Tf-idf approach "
   ]
  },
  {
   "cell_type": "code",
   "execution_count": 5,
   "id": "9af28d71-2e3f-4f88-976d-b568e9f8c71b",
   "metadata": {},
   "outputs": [],
   "source": [
    "# term-frequency and inverse-document-frequency\n",
    "vectorizer = TfidfVectorizer(tokenizer=sanitization)"
   ]
  },
  {
   "cell_type": "markdown",
   "id": "84c8fba0-1878-416c-b17f-3da77eb24d49",
   "metadata": {},
   "source": [
    "#### Splitting the test set and train set"
   ]
  },
  {
   "cell_type": "code",
   "execution_count": 6,
   "id": "5681f7dd-8ffa-499b-8fc5-2006f4f43a0b",
   "metadata": {},
   "outputs": [
    {
     "name": "stderr",
     "output_type": "stream",
     "text": [
      "C:\\Users\\yuvan\\AppData\\Roaming\\Python\\Python313\\site-packages\\sklearn\\feature_extraction\\text.py:517: UserWarning: The parameter 'token_pattern' will not be used since 'tokenizer' is not None'\n",
      "  warnings.warn(\n"
     ]
    }
   ],
   "source": [
    "x = vectorizer.fit_transform(urls)\n",
    "x_train, x_test, y_train, y_test = train_test_split(x, y, test_size=0.2, random_state=42)\n"
   ]
  },
  {
   "cell_type": "markdown",
   "id": "46eaf946-e2fd-4ace-b580-116e3f74cc8d",
   "metadata": {},
   "source": [
    "#### Training"
   ]
  },
  {
   "cell_type": "code",
   "execution_count": 7,
   "id": "bc989ba2-6d48-41f4-ad3b-6b8ff4425591",
   "metadata": {},
   "outputs": [
    {
     "name": "stdout",
     "output_type": "stream",
     "text": [
      "score: 98.40 %\n"
     ]
    }
   ],
   "source": [
    "lgr = LogisticRegression(solver='lbfgs', max_iter=1000)                  # Logistic regression\n",
    "lgr.fit(x_train, y_train)\n",
    "score = lgr.score(x_test, y_test)\n",
    "print(\"score: {0:.2f} %\".format(100 * score))\n",
    "vectorizer_save = vectorizer"
   ]
  },
  {
   "cell_type": "markdown",
   "id": "951166de-908e-4649-837b-ff5945021da9",
   "metadata": {},
   "source": [
    "#### Saving the modle and vectors"
   ]
  },
  {
   "cell_type": "code",
   "execution_count": 8,
   "id": "403718c3-3d3c-43c1-ae5e-e7b70b21a440",
   "metadata": {},
   "outputs": [],
   "source": [
    "file = \"pickel_model.pkl\"\n",
    "with open(file, 'wb') as f:\n",
    "    pickle.dump(lgr, f)\n",
    "f.close()\n",
    "\n",
    "file2 = \"pickel_vector.pkl\"\n",
    "with open(file2,'wb') as f2:\n",
    "    pickle.dump(vectorizer_save, f2)\n",
    "f2.close()"
   ]
  },
  {
   "cell_type": "code",
   "execution_count": null,
   "id": "f958be7c-04c9-4b8b-8feb-f838d292341c",
   "metadata": {},
   "outputs": [
    {
     "name": "stdout",
     "output_type": "stream",
     "text": [
      " __  __       _                          ____       _            _             \n",
      "|  \\/  | __ _| |_      ____ _ _ __ ___  |  _ \\  ___| |_ ___  ___| |_ ___  _ __ \n",
      "| |\\/| |/ _` | \\ \\ /\\ / / _` | '__/ _ \\ | | | |/ _ \\ __/ _ \\/ __| __/ _ \\| '__|\n",
      "| |  | | (_| | |\\ V  V / (_| | | |  __/ | |_| |  __/ ||  __/ (__| || (_) | |   \n",
      "|_|  |_|\\__,_|_| \\_/\\_/ \\__,_|_|  \\___| |____/ \\___|\\__\\___|\\___|\\__\\___/|_|   \n",
      "                                                                               \n",
      "\n",
      " Welcome to antimalware detector \n",
      "\n",
      " 1. PE scanner\n",
      " 2. URL scanner\n",
      " 3. Exit\n",
      "\n"
     ]
    },
    {
     "name": "stdin",
     "output_type": "stream",
     "text": [
      "Enter your choice :  2\n"
     ]
    }
   ],
   "source": [
    "import os\n",
    "import time\n",
    "import pyfiglet\n",
    "import subprocess\n",
    "\n",
    "def run_PE():\n",
    "    file = input(\"Enter the path and name of the file : \")\n",
    "    os.system(\"python3 Extract/PE_main.py {}\".format(file))\n",
    "\n",
    "def run_URL():\n",
    "    try:\n",
    "        subprocess.run(['python', 'url_main.py'], check=True)\n",
    "    except subprocess.CalledProcessError as e:\n",
    "        print(f\"Error running url_main.py: {e}\")\n",
    "    else:\n",
    "        print(\"URL scanner ran successfully\")\n",
    "\n",
    "def exit_program():\n",
    "    os.system('exit')\n",
    "\n",
    "def start():\n",
    "    print(pyfiglet.figlet_format(\"Malware Detector\"))\n",
    "    print(\" Welcome to antimalware detector \\n\")\n",
    "    print(\" 1. PE scanner\")\n",
    "    print(\" 2. URL scanner\")\n",
    "    print(\" 3. Exit\\n\")\n",
    "\n",
    "    select = int(input(\"Enter your choice : \"))\n",
    "\n",
    "    if select in [1, 2, 3]:\n",
    "        if select == 1:\n",
    "            run_PE()\n",
    "            choice = input(\"Do you want to search again? (y/n): \")\n",
    "            if choice not in ['Y', 'N', 'n', 'y']:\n",
    "                print(\"Bad input\\nExiting...\")\n",
    "                time.sleep(3)\n",
    "                exit_program()\n",
    "            else:\n",
    "                if choice == 'Y' or choice == 'y':\n",
    "                    start()\n",
    "                elif choice == 'N' or choice == 'n':\n",
    "                    exit_program()\n",
    "        \n",
    "        elif select == 2:\n",
    "            run_URL()\n",
    "            choice = input(\"Do you want to search again? (y/n): \")\n",
    "            if choice not in ['Y', 'N', 'n', 'y']:\n",
    "                print(\"Bad input\\nExiting...\")\n",
    "                time.sleep(3)\n",
    "                exit_program()\n",
    "            else:\n",
    "                if choice == 'Y' or choice == 'y':\n",
    "                    start()\n",
    "                else:\n",
    "                    exit_program()\n",
    "\n",
    "        else:\n",
    "            exit_program()\n",
    "    else:\n",
    "        print(\"Bad input\\nExiting...\")\n",
    "        time.sleep(3)\n",
    "        exit_program()\n",
    "\n",
    "start()\n"
   ]
  },
  {
   "cell_type": "code",
   "execution_count": null,
   "id": "9cbf7ca2-35f2-486b-a9ec-ef63d0a997c7",
   "metadata": {},
   "outputs": [],
   "source": []
  },
  {
   "cell_type": "code",
   "execution_count": null,
   "id": "d7a13214-c66b-467f-907a-da7f3c2f2da8",
   "metadata": {},
   "outputs": [],
   "source": []
  }
 ],
 "metadata": {
  "kernelspec": {
   "display_name": "Python 3 (ipykernel)",
   "language": "python",
   "name": "python3"
  },
  "language_info": {
   "codemirror_mode": {
    "name": "ipython",
    "version": 3
   },
   "file_extension": ".py",
   "mimetype": "text/x-python",
   "name": "python",
   "nbconvert_exporter": "python",
   "pygments_lexer": "ipython3",
   "version": "3.13.1"
  }
 },
 "nbformat": 4,
 "nbformat_minor": 5
}
